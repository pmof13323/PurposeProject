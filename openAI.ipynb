{
 "cells": [
  {
   "cell_type": "markdown",
   "metadata": {},
   "source": [
    "# Notebook for Purpose Project"
   ]
  },
  {
   "cell_type": "markdown",
   "metadata": {},
   "source": [
    "## Planned System Overview\n",
    "\n",
    "- chat gpt recives data\n",
    "\n",
    "- it uses its metrics to evaluate the useres answers and rank the user in all 40 skills between 0 to 10\n",
    "\n",
    "- chat gpt returns the scores\n",
    "\n",
    "- backend we process a NN search on our KD tree and based on the 5 nearest neighbours we pick top 3 professions"
   ]
  }
 ],
 "metadata": {
  "kernelspec": {
   "display_name": "openai-env",
   "language": "python",
   "name": "python3"
  },
  "language_info": {
   "codemirror_mode": {
    "name": "ipython",
    "version": 3
   },
   "file_extension": ".py",
   "mimetype": "text/x-python",
   "name": "python",
   "nbconvert_exporter": "python",
   "pygments_lexer": "ipython3",
   "version": "3.11.6"
  }
 },
 "nbformat": 4,
 "nbformat_minor": 2
}
