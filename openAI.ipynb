{
 "cells": [
  {
   "cell_type": "markdown",
   "metadata": {},
   "source": [
    "# Notebook for Purpose Project"
   ]
  },
  {
   "cell_type": "markdown",
   "metadata": {},
   "source": [
    "## Planned System Overview\n",
    "\n",
    "- Sprint 1: User -> Purpose Matching\n",
    "\n",
    "    - [x] Script can connect to OpenAi gpt-3.5-turbo model and send questions and recive answers (Testing)\n",
    "    - [x] Metric have been researched and refined\n",
    "    - [x] Xlsx data is correctly read in for nnKDTree\n",
    "    - [] Optimize KDtree to include labels in nodes so we do not have to search dataset for matching node\n",
    "    - [] mopdify NNSearch to be a K-NNSearch i.e return the K nearest neighbours\n",
    "    - [ ] Questions have been researched and refined\n",
    "    - [ ] Equations for purpose recommendation system have been researched and refined\n",
    "    - [ ] Metrics, questions and equations can be used by gpt-3.5-turbo model to determine a users purpose: Specfically testing with users who aleady know what their purpose is and seeing if the system is able to match them to their purpose based on their answers.\n",
    "\n",
    "\n",
    "\n",
    "- it uses its metrics to evaluate the useres answers and rank the user in all 40 skills between 0 to 10\n",
    "\n",
    "- chat gpt returns the scores\n",
    "\n",
    "- backend we process a NN search on our KD tree and based on the 5 nearest neighbours we pick top 3 professions"
   ]
  }
 ],
 "metadata": {
  "kernelspec": {
   "display_name": "openai-env",
   "language": "python",
   "name": "python3"
  },
  "language_info": {
   "codemirror_mode": {
    "name": "ipython",
    "version": 3
   },
   "file_extension": ".py",
   "mimetype": "text/x-python",
   "name": "python",
   "nbconvert_exporter": "python",
   "pygments_lexer": "ipython3",
   "version": "3.9.6"
  }
 },
 "nbformat": 4,
 "nbformat_minor": 2
}
